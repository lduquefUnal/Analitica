{
 "cells": [
  {
   "cell_type": "markdown",
   "id": "04a85b1d",
   "metadata": {},
   "source": [
    "# prueba tecnica \n",
    "\n",
    "URL:https://raw.githubusercontent.com/rashida048/Datasets/master/home_data.csv\n",
    "1. Realice un análisis exploratorio del conjunto de datos y presente sus\n",
    "conclusiones.\n",
    "2. Realice un preprocesamiento de los datos y explique el proceso realizado.\n",
    "3. Seleccione un modelo para ajustar el precio de las viviendas teniendo en\n",
    "cuenta métricas de validación y testeo, explique cuáles modelos presentó y\n",
    "el proceso de selección.\n",
    "4. A partir del modelo seleccionado, y asumiendo que este es un estimador\n",
    "acertado del valor de mercado, ¿Cómo seleccionaría usted viviendas\n",
    "atractivas para inversión? De un ejemplo de una."
   ]
  },
  {
   "cell_type": "code",
   "execution_count": 1,
   "id": "6cf200b2",
   "metadata": {},
   "outputs": [
    {
     "name": "stdout",
     "output_type": "stream",
     "text": [
      "           id             date   price  bedrooms  bathrooms  sqft_living  \\\n",
      "0  7129300520  20141013T000000  221900         3       1.00         1180   \n",
      "1  6414100192  20141209T000000  538000         3       2.25         2570   \n",
      "2  5631500400  20150225T000000  180000         2       1.00          770   \n",
      "3  2487200875  20141209T000000  604000         4       3.00         1960   \n",
      "4  1954400510  20150218T000000  510000         3       2.00         1680   \n",
      "\n",
      "   sqft_lot  floors  waterfront  view  ...  grade  sqft_above  sqft_basement  \\\n",
      "0      5650     1.0           0     0  ...      7        1180              0   \n",
      "1      7242     2.0           0     0  ...      7        2170            400   \n",
      "2     10000     1.0           0     0  ...      6         770              0   \n",
      "3      5000     1.0           0     0  ...      7        1050            910   \n",
      "4      8080     1.0           0     0  ...      8        1680              0   \n",
      "\n",
      "   yr_built  yr_renovated  zipcode      lat     long  sqft_living15  \\\n",
      "0      1955             0    98178  47.5112 -122.257           1340   \n",
      "1      1951          1991    98125  47.7210 -122.319           1690   \n",
      "2      1933             0    98028  47.7379 -122.233           2720   \n",
      "3      1965             0    98136  47.5208 -122.393           1360   \n",
      "4      1987             0    98074  47.6168 -122.045           1800   \n",
      "\n",
      "   sqft_lot15  \n",
      "0        5650  \n",
      "1        7639  \n",
      "2        8062  \n",
      "3        5000  \n",
      "4        7503  \n",
      "\n",
      "[5 rows x 21 columns]\n"
     ]
    }
   ],
   "source": [
    "import pandas as pd\n",
    "\n",
    "url = \"https://raw.githubusercontent.com/rashida048/Datasets/master/home_data.csv\"\n",
    "df = pd.read_csv(url)\n",
    "print(df.head())"
   ]
  }
 ],
 "metadata": {
  "kernelspec": {
   "display_name": "analitica",
   "language": "python",
   "name": "python3"
  },
  "language_info": {
   "codemirror_mode": {
    "name": "ipython",
    "version": 3
   },
   "file_extension": ".py",
   "mimetype": "text/x-python",
   "name": "python",
   "nbconvert_exporter": "python",
   "pygments_lexer": "ipython3",
   "version": "3.13.7"
  }
 },
 "nbformat": 4,
 "nbformat_minor": 5
}
